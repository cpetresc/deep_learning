{
 "cells": [
  {
   "cell_type": "markdown",
   "id": "e498959a",
   "metadata": {},
   "source": [
    "# Building and Evaluating Neural Networks for MNIST"
   ]
  },
  {
   "cell_type": "markdown",
   "id": "28917f73",
   "metadata": {},
   "source": [
    "### A) Code to load the data"
   ]
  },
  {
   "cell_type": "code",
   "execution_count": 4,
   "id": "b059b8a9-374c-48f2-b05c-0778195d0fa8",
   "metadata": {},
   "outputs": [],
   "source": [
    "# import pytorch\n",
    "import torch\n",
    "\n",
    "# import datasets and loader modules\n",
    "from torch.utils.data import DataLoader\n",
    "from torchvision.datasets import MNIST\n",
    "from torchvision.transforms import ToTensor\n",
    "import matplotlib.pyplot as plt"
   ]
  },
  {
   "cell_type": "code",
   "execution_count": 5,
   "id": "d7df3ba3-61cf-45f0-a7e1-c7b43588a14a",
   "metadata": {},
   "outputs": [
    {
     "name": "stdout",
     "output_type": "stream",
     "text": [
      "Dataset MNIST\n",
      "    Number of datapoints: 60000\n",
      "    Root location: data\n",
      "    Split: Train\n",
      "    StandardTransform\n",
      "Transform: ToTensor()\n",
      "Dataset MNIST\n",
      "    Number of datapoints: 10000\n",
      "    Root location: data\n",
      "    Split: Test\n",
      "    StandardTransform\n",
      "Transform: ToTensor()\n"
     ]
    }
   ],
   "source": [
    "# Download training\n",
    "training_data = MNIST(\n",
    "    root ='data', train=True, download=True, transform=ToTensor()\n",
    ")\n",
    "print(training_data)\n",
    "\n",
    "# Download test data\n",
    "test_data = MNIST(\n",
    "    root ='data', train=False, download=True, transform=ToTensor()\n",
    ")\n",
    "print(test_data)"
   ]
  },
  {
   "cell_type": "code",
   "execution_count": 6,
   "id": "594fb89f-4602-494f-a362-a04da19d6532",
   "metadata": {},
   "outputs": [
    {
     "data": {
      "text/plain": [
       "<torch.utils.data.dataloader.DataLoader at 0x7cebb99b9e70>"
      ]
     },
     "execution_count": 6,
     "metadata": {},
     "output_type": "execute_result"
    }
   ],
   "source": [
    "batch_size = 100\n",
    "\n",
    "# Create data loaders.\n",
    "train_dataloader = DataLoader(training_data, batch_size=batch_size)\n",
    "test_dataloader = DataLoader(test_data, batch_size=batch_size)\n",
    "train_dataloader"
   ]
  },
  {
   "cell_type": "markdown",
   "id": "eb0422bd",
   "metadata": {},
   "source": [
    "### B) Code to plot the first image of the training set"
   ]
  },
  {
   "cell_type": "code",
   "execution_count": 7,
   "id": "43e367e7-f67a-413c-822e-64b8753fdbbd",
   "metadata": {},
   "outputs": [
    {
     "name": "stdout",
     "output_type": "stream",
     "text": [
      "torch.Size([1, 28, 28]) 5\n",
      "tensor(1.) tensor(0.)\n"
     ]
    },
    {
     "data": {
      "text/plain": [
       "(-0.5, 27.5, 27.5, -0.5)"
      ]
     },
     "execution_count": 7,
     "metadata": {},
     "output_type": "execute_result"
    },
    {
     "data": {
      "image/png": "[encoded data removed]",
      "text/plain": [
       "<Figure size 640x480 with 1 Axes>"
      ]
     },
     "metadata": {},
     "output_type": "display_data"
    }
   ],
   "source": [
    "train_image_tensor, label = training_data[0]\n",
    "# check the dimensions\n",
    "print(train_image_tensor.shape, label)\n",
    "# Check scale for values\n",
    "print(torch.max(train_image_tensor), torch.min(train_image_tensor))\n",
    "plt.imshow(train_image_tensor[0,:,:],cmap = 'gray')\n",
    "plt.axis('off')"
   ]
  },
  {
   "cell_type": "markdown",
   "id": "7e90ea47",
   "metadata": {},
   "source": [
    "### C) Code to plot the first image of the test set"
   ]
  },
  {
   "cell_type": "code",
   "execution_count": 8,
   "id": "7076b62e-ba63-444e-88cd-14d8c058e74c",
   "metadata": {},
   "outputs": [
    {
     "name": "stdout",
     "output_type": "stream",
     "text": [
      "torch.Size([1, 28, 28]) 7\n",
      "tensor(1.) tensor(0.)\n"
     ]
    },
    {
     "data": {
      "text/plain": [
       "(-0.5, 27.5, 27.5, -0.5)"
      ]
     },
     "execution_count": 8,
     "metadata": {},
     "output_type": "execute_result"
    },
    {
     "data": {
      "image/png": "[encoded data removed]",
      "text/plain": [
       "<Figure size 640x480 with 1 Axes>"
      ]
     },
     "metadata": {},
     "output_type": "display_data"
    }
   ],
   "source": [
    "test_image_tensor, label = test_data[0]\n",
    "# check the dimensions\n",
    "print(test_image_tensor.shape, label)\n",
    "# Check scale for values\n",
    "print(torch.max(test_image_tensor), torch.min(test_image_tensor))\n",
    "plt.imshow(test_image_tensor[0,:,:],cmap = 'gray')\n",
    "plt.axis('off')"
   ]
  },
  {
   "cell_type": "markdown",
   "id": "affc5fab",
   "metadata": {},
   "source": [
    "### D) Code of the class for the single hidden layer neural network"
   ]
  },
  {
   "cell_type": "code",
   "execution_count": 9,
   "id": "a6149b2e-7ccb-4b1f-8ef3-8abea14f7def",
   "metadata": {},
   "outputs": [],
   "source": [
    "# Build the neural network\n",
    "from torch import nn\n",
    "\n",
    "# Device configuration, this is to check if GPU is available and run on GPU\n",
    "device = torch.device('cuda' if torch.cuda.is_available() else 'cpu')\n",
    "\n",
    "input_size = 28*28\n",
    "hidden_size = 400\n",
    "output_size = 10"
   ]
  },
  {
   "cell_type": "code",
   "execution_count": null,
   "id": "25f85484-0df8-452d-9423-6c0afad49308",
   "metadata": {},
   "outputs": [
    {
     "data": {
      "text/plain": [
       "SingleLayerNeuralNetwork(\n",
       "  (input_layer): Linear(in_features=784, out_features=400, bias=True)\n",
       "  (output_layer): Linear(in_features=400, out_features=10, bias=True)\n",
       "  (act): ReLU()\n",
       ")"
      ]
     },
     "execution_count": 10,
     "metadata": {},
     "output_type": "execute_result"
    }
   ],
   "source": [
    "# Fully-connected feedforward network with one hidden layer\n",
    "class SingleLayerNeuralNetwork(nn.Module):\n",
    "    def __init__(self):\n",
    "        super().__init__()\n",
    "        self.input_layer = nn.Linear(input_size, hidden_size)\n",
    "        self.output_layer = nn.Linear(hidden_size, output_size)\n",
    "        self.act = nn.ReLU()\n",
    "\n",
    "    def forward(self, x):\n",
    "        res = self.input_layer(x)\n",
    "        res = self.act(self.output_layer(res))\n",
    "        return res\n",
    "\n",
    "# Set parameters\n",
    "nn_model_pb2 = SingleLayerNeuralNetwork().to(device)\n",
    "nn_model_pb2"
   ]
  },
  {
   "cell_type": "markdown",
   "id": "1e306db1",
   "metadata": {},
   "source": [
    "### E) Code to define the functions to test and train of a neural network model"
   ]
  },
  {
   "cell_type": "code",
   "execution_count": 11,
   "id": "18f47f27-8677-426e-884e-7a1c300f3057",
   "metadata": {},
   "outputs": [],
   "source": [
    "from pandas import DataFrame\n",
    "\n",
    "# Test the model\n",
    "def test_neural_network(epoch, nn_model, accuracy_dict):\n",
    "    with torch.no_grad():\n",
    "        n_correct = 0\n",
    "        n_samples = 0\n",
    "        for images, labels in test_dataloader:\n",
    "            images = images.reshape(-1, input_size).to(device)\n",
    "            labels = labels.to(device)\n",
    "            \n",
    "            outputs = nn_model(images)\n",
    "\n",
    "            _, predictions = torch.max(outputs, 1)\n",
    "            n_samples += labels.shape[0]\n",
    "            n_correct += (predictions == labels).sum().item()\n",
    "        \n",
    "        acc = 100.0 * n_correct / n_samples\n",
    "        accuracy_dict[\"Epoch\"].append(epoch + 1)\n",
    "        accuracy_dict[\"Accuracy\"].append(acc)\n",
    "        print(f'Epoch {epoch+1}: Accuracy = {acc}')\n",
    "\n",
    "# Test & Train the model for each epoch\n",
    "def test_train_neural_network(n_epochs, nn_model, loss_fn, optimizer):\n",
    "    # To export Accuracy in the report\n",
    "    accuracy_dict = {\n",
    "        \"Epoch\" : list(),\n",
    "        \"Accuracy\" : list()\n",
    "    }\n",
    "    \n",
    "    for epoch in range(n_epochs):\n",
    "        # Train the model for the current epoch\n",
    "        for i, (images, labels) in enumerate(train_dataloader):\n",
    "            # reshape to batch_size, input_size\n",
    "            images = images.reshape(-1, input_size).to(device)\n",
    "            labels = labels.to(device)\n",
    "            \n",
    "            # apply forwar of our nn_model\n",
    "            outputs = nn_model(images)\n",
    "            \n",
    "            loss = loss_fn(outputs, labels)\n",
    "            optimizer.zero_grad()\n",
    "            loss.backward()\n",
    "            optimizer.step()\n",
    "\n",
    "        # Test the model for the current epoch\n",
    "        test_neural_network(epoch, nn_model, accuracy_dict)\n",
    "\n",
    "    return DataFrame(accuracy_dict)"
   ]
  },
  {
   "cell_type": "markdown",
   "id": "60f5d0f9",
   "metadata": {},
   "source": [
    "### F) Code to train and test the model with a single hidden layer"
   ]
  },
  {
   "cell_type": "code",
   "execution_count": null,
   "id": "863d6c96-4bb6-4bc7-8eff-b166c7096847",
   "metadata": {},
   "outputs": [
    {
     "name": "stdout",
     "output_type": "stream",
     "text": [
      "Epoch 1: Accuracy = 90.33\n",
      "Epoch 2: Accuracy = 91.62\n",
      "Epoch 3: Accuracy = 91.87\n",
      "Epoch 4: Accuracy = 92.1\n",
      "Epoch 5: Accuracy = 92.12\n",
      "Epoch 6: Accuracy = 92.2\n",
      "Epoch 7: Accuracy = 92.28\n",
      "Epoch 8: Accuracy = 92.32\n",
      "Epoch 9: Accuracy = 92.32\n",
      "Epoch 10: Accuracy = 92.3\n",
      "Epoch 11: Accuracy = 92.32\n",
      "Epoch 12: Accuracy = 92.31\n",
      "Epoch 13: Accuracy = 92.29\n",
      "Epoch 14: Accuracy = 92.35\n",
      "Epoch 15: Accuracy = 92.32\n",
      "Epoch 16: Accuracy = 92.29\n",
      "Epoch 17: Accuracy = 92.33\n",
      "Epoch 18: Accuracy = 92.39\n",
      "Epoch 19: Accuracy = 92.46\n",
      "Epoch 20: Accuracy = 92.45\n"
     ]
    }
   ],
   "source": [
    "# Set parameters\n",
    "loss_fn_pb2 =  nn.CrossEntropyLoss()\n",
    "optimizer_pb2 = torch.optim.SGD(\n",
    "    nn_model_pb2.parameters(), lr=0.001, momentum=0.99\n",
    ")\n",
    "\n",
    "# train & test the model\n",
    "n_epochs_pb2 = 20\n",
    "\n",
    "accuracy_pb2 = test_train_neural_network(\n",
    "    n_epochs_pb2,\n",
    "    nn_model_pb2,\n",
    "    loss_fn_pb2,\n",
    "    optimizer_pb2\n",
    ")"
   ]
  },
  {
   "cell_type": "markdown",
   "id": "746b08b0",
   "metadata": {},
   "source": [
    "### G) Code of the class for the double hidden layer neural network"
   ]
  },
  {
   "cell_type": "code",
   "execution_count": 13,
   "id": "8ab6fff7-beee-4c6f-b1b4-021520ae7640",
   "metadata": {},
   "outputs": [
    {
     "data": {
      "text/plain": [
       "TwoLayersNeuralNetwork(\n",
       "  (input_layer): Linear(in_features=784, out_features=500, bias=True)\n",
       "  (hidden_layers): Linear(in_features=500, out_features=300, bias=True)\n",
       "  (output_layer): Linear(in_features=300, out_features=10, bias=True)\n",
       "  (act1): ReLU()\n",
       "  (act2): ReLU()\n",
       ")"
      ]
     },
     "execution_count": 13,
     "metadata": {},
     "output_type": "execute_result"
    }
   ],
   "source": [
    "# Hidden layers size\n",
    "hidden_size_pb3_1 = 500\n",
    "hidden_size_pb3_2 = 300\n",
    "\n",
    "class TwoLayersNeuralNetwork(nn.Module):\n",
    "    def __init__(self):\n",
    "        super().__init__()\n",
    "        self.input_layer = nn.Linear(input_size, hidden_size_pb3_1)\n",
    "        self.hidden_layers = nn.Linear(hidden_size_pb3_1, hidden_size_pb3_2)\n",
    "        self.output_layer = nn.Linear(hidden_size_pb3_2, output_size)\n",
    "        self.act1 = nn.ReLU()\n",
    "        self.act2 = nn.ReLU()\n",
    "\n",
    "    def forward(self, x):\n",
    "        res = self.input_layer(x)\n",
    "        res = self.act1(self.hidden_layers(res))\n",
    "        res = self.act2(self.output_layer(res))\n",
    "        return res\n",
    "\n",
    "nn_model_pb3 = TwoLayersNeuralNetwork().to(device)\n",
    "loss_fn_pb3 =  nn.CrossEntropyLoss()\n",
    "optimizer_pb3 = torch.optim.SGD(\n",
    "    nn_model_pb3.parameters(), \n",
    "    lr=0.001,\n",
    "    momentum=0.99, \n",
    "    weight_decay=0.0001\n",
    ")\n",
    "nn_model_pb3"
   ]
  },
  {
   "cell_type": "markdown",
   "id": "e68f06e8",
   "metadata": {},
   "source": [
    "###  H) Code to train and test the model with double hidden layer"
   ]
  },
  {
   "cell_type": "code",
   "execution_count": 14,
   "id": "fdf13376-e431-4f76-acdb-e8d5cef9181d",
   "metadata": {},
   "outputs": [
    {
     "name": "stdout",
     "output_type": "stream",
     "text": [
      "Epoch 1: Accuracy = 70.89\n",
      "Epoch 2: Accuracy = 81.52\n",
      "Epoch 3: Accuracy = 83.05\n",
      "Epoch 4: Accuracy = 84.07\n",
      "Epoch 5: Accuracy = 84.75\n",
      "Epoch 6: Accuracy = 84.95\n",
      "Epoch 7: Accuracy = 85.23\n",
      "Epoch 8: Accuracy = 85.54\n",
      "Epoch 9: Accuracy = 85.77\n",
      "Epoch 10: Accuracy = 96.84\n",
      "Epoch 11: Accuracy = 97.09\n",
      "Epoch 12: Accuracy = 97.25\n",
      "Epoch 13: Accuracy = 97.47\n",
      "Epoch 14: Accuracy = 97.51\n",
      "Epoch 15: Accuracy = 97.53\n",
      "Epoch 16: Accuracy = 97.56\n",
      "Epoch 17: Accuracy = 97.57\n",
      "Epoch 18: Accuracy = 97.67\n",
      "Epoch 19: Accuracy = 97.64\n",
      "Epoch 20: Accuracy = 97.68\n",
      "Epoch 21: Accuracy = 97.69\n",
      "Epoch 22: Accuracy = 97.78\n",
      "Epoch 23: Accuracy = 97.78\n",
      "Epoch 24: Accuracy = 97.7\n",
      "Epoch 25: Accuracy = 97.62\n",
      "Epoch 26: Accuracy = 97.57\n",
      "Epoch 27: Accuracy = 97.5\n",
      "Epoch 28: Accuracy = 97.53\n",
      "Epoch 29: Accuracy = 97.59\n",
      "Epoch 30: Accuracy = 97.68\n",
      "Epoch 31: Accuracy = 97.76\n",
      "Epoch 32: Accuracy = 97.87\n",
      "Epoch 33: Accuracy = 97.99\n",
      "Epoch 34: Accuracy = 97.96\n",
      "Epoch 35: Accuracy = 97.93\n",
      "Epoch 36: Accuracy = 97.81\n",
      "Epoch 37: Accuracy = 97.82\n",
      "Epoch 38: Accuracy = 97.9\n",
      "Epoch 39: Accuracy = 97.93\n",
      "Epoch 40: Accuracy = 97.9\n",
      "Epoch 41: Accuracy = 97.88\n",
      "Epoch 42: Accuracy = 97.92\n",
      "Epoch 43: Accuracy = 97.9\n",
      "Epoch 44: Accuracy = 97.94\n",
      "Epoch 45: Accuracy = 97.91\n",
      "Epoch 46: Accuracy = 97.87\n",
      "Epoch 47: Accuracy = 97.85\n",
      "Epoch 48: Accuracy = 97.82\n",
      "Epoch 49: Accuracy = 97.85\n",
      "Epoch 50: Accuracy = 97.85\n"
     ]
    }
   ],
   "source": [
    "# Number of epochs\n",
    "n_epochs_pb3 = 50 # at least 40\n",
    "\n",
    "accuracy_pb3 = test_train_neural_network(\n",
    "    n_epochs_pb3,\n",
    "    nn_model_pb3,\n",
    "    loss_fn_pb3,\n",
    "    optimizer_pb3,\n",
    ")"
   ]
  },
  {
   "cell_type": "markdown",
   "id": "de5900f4",
   "metadata": {},
   "source": [
    "### I) Code of the class for the convolutional neural network"
   ]
  },
  {
   "cell_type": "code",
   "execution_count": null,
   "id": "9dd2b53e-5702-4c91-879e-941862b535a9",
   "metadata": {},
   "outputs": [
    {
     "data": {
      "text/plain": [
       "ConvolutionalLayersNeuralNetwork(\n",
       "  (conv1): Conv2d(1, 16, kernel_size=(5, 5), stride=(1, 1))\n",
       "  (pool1): MaxPool2d(kernel_size=2, stride=2, padding=0, dilation=1, ceil_mode=False)\n",
       "  (conv2): Conv2d(16, 32, kernel_size=(5, 5), stride=(1, 1))\n",
       "  (pool2): MaxPool2d(kernel_size=2, stride=2, padding=0, dilation=1, ceil_mode=False)\n",
       "  (hidden_layer): Linear(in_features=512, out_features=50, bias=True)\n",
       "  (flat): Flatten(start_dim=1, end_dim=-1)\n",
       "  (output_layer): Linear(in_features=50, out_features=10, bias=True)\n",
       "  (act): ReLU()\n",
       ")"
      ]
     },
     "execution_count": 15,
     "metadata": {},
     "output_type": "execute_result"
    }
   ],
   "source": [
    "hidden_size_pb4 = 50\n",
    "\n",
    "# Feedforward network with at least two convolutional layers\n",
    "class ConvolutionalLayersNeuralNetwork(nn.Module):\n",
    "    def __init__(self):\n",
    "        super().__init__()\n",
    "        self.conv1 = nn.Conv2d(\n",
    "            in_channels=1, \n",
    "            out_channels=16,\n",
    "            kernel_size=5, \n",
    "            stride=1, \n",
    "            padding=0\n",
    "        )\n",
    "        self.pool1 = nn.MaxPool2d(\n",
    "            kernel_size=2,\n",
    "            stride=2\n",
    "        )\n",
    "        self.conv2 = nn.Conv2d(\n",
    "            in_channels=16,\n",
    "            out_channels=32,\n",
    "            kernel_size=5,\n",
    "            stride=1,\n",
    "            padding=0\n",
    "        )\n",
    "        self.pool2 = nn.MaxPool2d(\n",
    "            kernel_size=2,\n",
    "            stride=2\n",
    "        )\n",
    "        self.hidden_layer = nn.Linear(32*4*4, hidden_size_pb4)\n",
    "        self.flat = nn.Flatten()\n",
    "        self.output_layer = nn.Linear(hidden_size_pb4, output_size)\n",
    "        self.act = nn.ReLU()\n",
    "\n",
    "    def forward(self, x):\n",
    "        res = self.conv1(x)\n",
    "        res = self.pool1(res)\n",
    "        res = self.conv2(res)\n",
    "        res = self.pool2(res)\n",
    "        res = self.flat(res)\n",
    "        res = self.act(self.hidden_layer(res))\n",
    "        res = self.output_layer(res)\n",
    "        return res\n",
    "\n",
    "nn_model_pb4 = ConvolutionalLayersNeuralNetwork().to(device)\n",
    "loss_fn_pb4 =  nn.CrossEntropyLoss()\n",
    "optimizer_pb4 = torch.optim.SGD(\n",
    "    nn_model_pb4.parameters(), \n",
    "    lr=0.001,\n",
    "    momentum=0.99\n",
    ")\n",
    "nn_model_pb4"
   ]
  },
  {
   "cell_type": "markdown",
   "id": "2fd2fe55",
   "metadata": {},
   "source": [
    "###  J) Code to train and test the model with convolutional layers"
   ]
  },
  {
   "cell_type": "code",
   "execution_count": 16,
   "id": "049e051d-c538-4d35-afd7-c362fb716842",
   "metadata": {},
   "outputs": [
    {
     "name": "stdout",
     "output_type": "stream",
     "text": [
      "Epoch: 1, Accuracy: 95.45\n",
      "Epoch: 2, Accuracy: 97.86\n",
      "Epoch: 3, Accuracy: 98.09\n",
      "Epoch: 4, Accuracy: 98.48\n",
      "Epoch: 5, Accuracy: 98.48\n",
      "Epoch: 6, Accuracy: 98.27\n",
      "Epoch: 7, Accuracy: 98.39\n",
      "Epoch: 8, Accuracy: 98.61\n",
      "Epoch: 9, Accuracy: 98.7\n",
      "Epoch: 10, Accuracy: 98.65\n",
      "Epoch: 11, Accuracy: 98.67\n",
      "Epoch: 12, Accuracy: 98.77\n",
      "Epoch: 13, Accuracy: 98.68\n",
      "Epoch: 14, Accuracy: 98.74\n",
      "Epoch: 15, Accuracy: 98.76\n",
      "Epoch: 16, Accuracy: 98.73\n",
      "Epoch: 17, Accuracy: 98.75\n",
      "Epoch: 18, Accuracy: 98.55\n",
      "Epoch: 19, Accuracy: 98.8\n",
      "Epoch: 20, Accuracy: 98.87\n",
      "Epoch: 21, Accuracy: 98.86\n",
      "Epoch: 22, Accuracy: 98.76\n",
      "Epoch: 23, Accuracy: 98.78\n",
      "Epoch: 24, Accuracy: 98.72\n",
      "Epoch: 25, Accuracy: 98.87\n",
      "Epoch: 26, Accuracy: 98.86\n",
      "Epoch: 27, Accuracy: 98.81\n",
      "Epoch: 28, Accuracy: 98.83\n",
      "Epoch: 29, Accuracy: 98.82\n",
      "Epoch: 30, Accuracy: 98.81\n",
      "Epoch: 31, Accuracy: 98.85\n",
      "Epoch: 32, Accuracy: 98.86\n",
      "Epoch: 33, Accuracy: 98.82\n",
      "Epoch: 34, Accuracy: 98.81\n",
      "Epoch: 35, Accuracy: 98.84\n",
      "Epoch: 36, Accuracy: 98.9\n",
      "Epoch: 37, Accuracy: 98.9\n",
      "Epoch: 38, Accuracy: 98.89\n",
      "Epoch: 39, Accuracy: 98.87\n",
      "Epoch: 40, Accuracy: 98.9\n",
      "Epoch: 41, Accuracy: 98.88\n",
      "Epoch: 42, Accuracy: 98.87\n",
      "Epoch: 43, Accuracy: 98.88\n",
      "Epoch: 44, Accuracy: 98.88\n",
      "Epoch: 45, Accuracy: 98.87\n",
      "Epoch: 46, Accuracy: 98.87\n",
      "Epoch: 47, Accuracy: 98.87\n",
      "Epoch: 48, Accuracy: 98.88\n",
      "Epoch: 49, Accuracy: 98.88\n",
      "Epoch: 50, Accuracy: 98.89\n"
     ]
    }
   ],
   "source": [
    "# Train the model\n",
    "n_epochs_pb4 = 50\n",
    "\n",
    "# To export data\n",
    "accuracy_pb4 = {\n",
    "    \"Epoch\": list(),\n",
    "    \"Accuracy\": list()\n",
    "}\n",
    "\n",
    "for epoch in range(n_epochs_pb4):\n",
    "    for images, labels in train_dataloader:\n",
    "        outputs = nn_model_pb4(images)\n",
    "\n",
    "        loss = loss_fn_pb4(outputs, labels)\n",
    "        optimizer_pb4.zero_grad()\n",
    "        loss.backward()\n",
    "        optimizer_pb4.step()\n",
    "\n",
    "    # Test the model\n",
    "    with torch.no_grad():\n",
    "        n_correct = 0\n",
    "        n_samples = 0\n",
    "        for images, labels in test_dataloader:\n",
    "            outputs = nn_model_pb4(images)\n",
    "            _, predictions = torch.max(outputs, 1)\n",
    "            n_samples += labels.shape[0]\n",
    "            n_correct += (predictions == labels).sum().item()\n",
    "\n",
    "        acc = 100.0 * n_correct / n_samples\n",
    "        accuracy_pb4[\"Epoch\"].append(epoch + 1)\n",
    "        accuracy_pb4[\"Accuracy\"].append(acc)\n",
    "        print(f'Epoch: {epoch+1}, Accuracy: {acc}')"
   ]
  }
 ],
 "metadata": {
  "kernelspec": {
   "display_name": "Python 3",
   "language": "python",
   "name": "python3"
  },
  "language_info": {
   "codemirror_mode": {
    "name": "ipython",
    "version": 3
   },
   "file_extension": ".py",
   "mimetype": "text/x-python",
   "name": "python",
   "nbconvert_exporter": "python",
   "pygments_lexer": "ipython3",
   "version": "3.10.12"
  }
 },
 "nbformat": 4,
 "nbformat_minor": 5
}
